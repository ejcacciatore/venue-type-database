{
  "nbformat": 4,
  "nbformat_minor": 0,
  "metadata": {
    "colab": {
      "provenance": [],
      "authorship_tag": "ABX9TyOcTBTxNx+d4gtz7PPqvXvz",
      "include_colab_link": true
    },
    "kernelspec": {
      "name": "python3",
      "display_name": "Python 3"
    },
    "language_info": {
      "name": "python"
    }
  },
  "cells": [
    {
      "cell_type": "markdown",
      "metadata": {
        "id": "view-in-github",
        "colab_type": "text"
      },
      "source": [
        "<a href=\"https://colab.research.google.com/github/ejcacciatore/venue-type-database/blob/main/app_py.ipynb\" target=\"_parent\"><img src=\"https://colab.research.google.com/assets/colab-badge.svg\" alt=\"Open In Colab\"/></a>"
      ]
    },
    {
      "cell_type": "code",
      "execution_count": null,
      "metadata": {
        "id": "7htASFtSkE8m"
      },
      "outputs": [],
      "source": [
        "import pandas as pd\n",
        "import streamlit as st\n",
        "\n",
        "# Load Excel File\n",
        "file_path = 'data/Venue_Type_Template_v1.xlsx'\n",
        "venues_template = pd.read_excel(file_path, sheet_name='Venue Type Template')\n",
        "venues_details = pd.read_excel(file_path, sheet_name='Venues')\n",
        "\n",
        "# Streamlit App\n",
        "st.title(\"Venue Type Database\")\n",
        "st.sidebar.title(\"Filters\")\n",
        "\n",
        "# Venue Type Template\n",
        "st.subheader(\"Venue Type Template\")\n",
        "st.dataframe(venues_template)\n",
        "\n",
        "# Venues Details with Search\n",
        "st.subheader(\"Venues Details\")\n",
        "search_term = st.sidebar.text_input(\"Search Venue Name\", \"\")\n",
        "filtered_venues = venues_details[\n",
        "    venues_details['Venue Name'].str.contains(search_term, case=False, na=False)\n",
        "]\n",
        "st.dataframe(filtered_venues)\n",
        "\n",
        "# Download Filtered Data\n",
        "st.download_button(\n",
        "    label=\"Download Filtered Venues\",\n",
        "    data=filtered_venues.to_csv(index=False),\n",
        "    file_name=\"filtered_venues.csv\",\n",
        "    mime=\"text/csv\",\n",
        ")\n"
      ]
    }
  ]
}